{
 "cells": [
  {
   "cell_type": "code",
   "execution_count": 1,
   "metadata": {},
   "outputs": [],
   "source": [
    "#Author: Kristen\n",
    "#Description: For now this is just random exploration (first program)\n",
    "#Last Update Date: July 23rd\n",
    "#Dependencies: None"
   ]
  },
  {
   "cell_type": "code",
   "execution_count": 2,
   "metadata": {},
   "outputs": [],
   "source": [
    "set.seed(42)"
   ]
  },
  {
   "cell_type": "code",
   "execution_count": 3,
   "metadata": {},
   "outputs": [],
   "source": [
    "#Install the packages if you have not already installed them on your computer\n",
    "#install.packages(\"RandPro\")\n",
    "#install.packages(\"corrplot\")\n",
    "#install.packages(\"changepoint\")\n",
    "#install.packages(\"ecp\")"
   ]
  },
  {
   "cell_type": "code",
   "execution_count": 4,
   "metadata": {},
   "outputs": [
    {
     "name": "stderr",
     "output_type": "stream",
     "text": [
      "corrplot 0.84 loaded\n",
      "Loading required package: lattice\n",
      "Loading required package: ggplot2\n",
      "\n",
      "Attaching package: ‘dplyr’\n",
      "\n",
      "The following objects are masked from ‘package:stats’:\n",
      "\n",
      "    filter, lag\n",
      "\n",
      "The following objects are masked from ‘package:base’:\n",
      "\n",
      "    intersect, setdiff, setequal, union\n",
      "\n",
      "Loading required package: zoo\n",
      "\n",
      "Attaching package: ‘zoo’\n",
      "\n",
      "The following objects are masked from ‘package:base’:\n",
      "\n",
      "    as.Date, as.Date.numeric\n",
      "\n",
      "Successfully loaded changepoint package version 2.2.2\n",
      " NOTE: Predefined penalty values changed in version 2.2.  Previous penalty values with a postfix 1 i.e. SIC1 are now without i.e. SIC and previous penalties without a postfix i.e. SIC are now with a postfix 0 i.e. SIC0. See NEWS and help files for further details.\n",
      "Loading required package: Rcpp\n"
     ]
    }
   ],
   "source": [
    "#Libraries\n",
    "library(corrplot)\n",
    "library(caret)\n",
    "library(RandPro)\n",
    "library(dplyr)\n",
    "library(changepoint)\n",
    "library(ecp)\n",
    "library(ggplot2)"
   ]
  },
  {
   "cell_type": "code",
   "execution_count": 5,
   "metadata": {},
   "outputs": [
    {
     "data": {
      "text/html": [
       "<table>\n",
       "<thead><tr><th scope=col>rn</th><th scope=col>tBodyAcc.mean.X</th><th scope=col>tBodyAcc.mean.Y</th><th scope=col>tBodyAcc.mean.Z</th><th scope=col>tBodyAcc.std.X</th><th scope=col>tBodyAcc.std.Y</th><th scope=col>tBodyAcc.std.Z</th><th scope=col>tBodyAcc.mad.X</th><th scope=col>tBodyAcc.mad.Y</th><th scope=col>tBodyAcc.mad.Z</th><th scope=col>⋯</th><th scope=col>fBodyBodyGyroJerkMag.meanFreq</th><th scope=col>fBodyBodyGyroJerkMag.skewness</th><th scope=col>fBodyBodyGyroJerkMag.kurtosis</th><th scope=col>angle.tBodyAccMean.gravity</th><th scope=col>angle.tBodyAccJerkMean.gravityMean</th><th scope=col>angle.tBodyGyroMean.gravityMean</th><th scope=col>angle.tBodyGyroJerkMean.gravityMean</th><th scope=col>angle.X.gravityMean</th><th scope=col>angle.Y.gravityMean</th><th scope=col>angle.Z.gravityMean</th></tr></thead>\n",
       "<tbody>\n",
       "\t<tr><td>3      </td><td>0.280  </td><td>-0.0195</td><td>-0.113 </td><td>-0.995 </td><td>-0.967 </td><td>-0.979 </td><td>-0.997 </td><td>-0.964 </td><td>-0.977 </td><td>⋯      </td><td>0.4150 </td><td>-0.391 </td><td>-0.760 </td><td>-0.119 </td><td>0.178  </td><td>0.101  </td><td> 0.809 </td><td>-0.849 </td><td>0.181  </td><td>-0.0491</td></tr>\n",
       "\t<tr><td>5      </td><td>0.277  </td><td>-0.0166</td><td>-0.115 </td><td>-0.998 </td><td>-0.981 </td><td>-0.990 </td><td>-0.998 </td><td>-0.980 </td><td>-0.990 </td><td>⋯      </td><td>0.0878 </td><td>-0.351 </td><td>-0.699 </td><td> 0.123 </td><td>0.123  </td><td>0.694  </td><td>-0.616 </td><td>-0.848 </td><td>0.185  </td><td>-0.0439</td></tr>\n",
       "</tbody>\n",
       "</table>\n"
      ],
      "text/latex": [
       "\\begin{tabular}{r|llllllllllllllllllllllllllllllllllllllllllllllllllllllllllllllllllllllllllllllllllllllllllllllllllllllllllllllllllllllllllllllllllllllllllllllllllllllllllllllllllllllllllllllllllllllllllllllllllllllllllllllllllllllllllllllllllllllllllllllllllllllllllllllllllllllllllllllllllllllllllllllllllllllllllllllllllllllllllllllllllllllllllllllllllllllllllllllllllllllllllllllllllllllllllllllllllllllllllllllllllllllllllllllllllllllllllllllllllllllllllllllllllllllllllllllllllllllllllllllllllllllllllllllllllllllllllllllllllllllllllllllllllllllllllllllllllllllllllllllllll}\n",
       " rn & tBodyAcc.mean.X & tBodyAcc.mean.Y & tBodyAcc.mean.Z & tBodyAcc.std.X & tBodyAcc.std.Y & tBodyAcc.std.Z & tBodyAcc.mad.X & tBodyAcc.mad.Y & tBodyAcc.mad.Z & ⋯ & fBodyBodyGyroJerkMag.meanFreq & fBodyBodyGyroJerkMag.skewness & fBodyBodyGyroJerkMag.kurtosis & angle.tBodyAccMean.gravity & angle.tBodyAccJerkMean.gravityMean & angle.tBodyGyroMean.gravityMean & angle.tBodyGyroJerkMean.gravityMean & angle.X.gravityMean & angle.Y.gravityMean & angle.Z.gravityMean\\\\\n",
       "\\hline\n",
       "\t 3       & 0.280   & -0.0195 & -0.113  & -0.995  & -0.967  & -0.979  & -0.997  & -0.964  & -0.977  & ⋯       & 0.4150  & -0.391  & -0.760  & -0.119  & 0.178   & 0.101   &  0.809  & -0.849  & 0.181   & -0.0491\\\\\n",
       "\t 5       & 0.277   & -0.0166 & -0.115  & -0.998  & -0.981  & -0.990  & -0.998  & -0.980  & -0.990  & ⋯       & 0.0878  & -0.351  & -0.699  &  0.123  & 0.123   & 0.694   & -0.616  & -0.848  & 0.185   & -0.0439\\\\\n",
       "\\end{tabular}\n"
      ],
      "text/markdown": [
       "\n",
       "rn | tBodyAcc.mean.X | tBodyAcc.mean.Y | tBodyAcc.mean.Z | tBodyAcc.std.X | tBodyAcc.std.Y | tBodyAcc.std.Z | tBodyAcc.mad.X | tBodyAcc.mad.Y | tBodyAcc.mad.Z | ⋯ | fBodyBodyGyroJerkMag.meanFreq | fBodyBodyGyroJerkMag.skewness | fBodyBodyGyroJerkMag.kurtosis | angle.tBodyAccMean.gravity | angle.tBodyAccJerkMean.gravityMean | angle.tBodyGyroMean.gravityMean | angle.tBodyGyroJerkMean.gravityMean | angle.X.gravityMean | angle.Y.gravityMean | angle.Z.gravityMean | \n",
       "|---|---|\n",
       "| 3       | 0.280   | -0.0195 | -0.113  | -0.995  | -0.967  | -0.979  | -0.997  | -0.964  | -0.977  | ⋯       | 0.4150  | -0.391  | -0.760  | -0.119  | 0.178   | 0.101   |  0.809  | -0.849  | 0.181   | -0.0491 | \n",
       "| 5       | 0.277   | -0.0166 | -0.115  | -0.998  | -0.981  | -0.990  | -0.998  | -0.980  | -0.990  | ⋯       | 0.0878  | -0.351  | -0.699  |  0.123  | 0.123   | 0.694   | -0.616  | -0.848  | 0.185   | -0.0439 | \n",
       "\n",
       "\n"
      ],
      "text/plain": [
       "  rn tBodyAcc.mean.X tBodyAcc.mean.Y tBodyAcc.mean.Z tBodyAcc.std.X\n",
       "1 3  0.280           -0.0195         -0.113          -0.995        \n",
       "2 5  0.277           -0.0166         -0.115          -0.998        \n",
       "  tBodyAcc.std.Y tBodyAcc.std.Z tBodyAcc.mad.X tBodyAcc.mad.Y tBodyAcc.mad.Z ⋯\n",
       "1 -0.967         -0.979         -0.997         -0.964         -0.977         ⋯\n",
       "2 -0.981         -0.990         -0.998         -0.980         -0.990         ⋯\n",
       "  fBodyBodyGyroJerkMag.meanFreq fBodyBodyGyroJerkMag.skewness\n",
       "1 0.4150                        -0.391                       \n",
       "2 0.0878                        -0.351                       \n",
       "  fBodyBodyGyroJerkMag.kurtosis angle.tBodyAccMean.gravity\n",
       "1 -0.760                        -0.119                    \n",
       "2 -0.699                         0.123                    \n",
       "  angle.tBodyAccJerkMean.gravityMean angle.tBodyGyroMean.gravityMean\n",
       "1 0.178                              0.101                          \n",
       "2 0.123                              0.694                          \n",
       "  angle.tBodyGyroJerkMean.gravityMean angle.X.gravityMean angle.Y.gravityMean\n",
       "1  0.809                              -0.849              0.181              \n",
       "2 -0.616                              -0.848              0.185              \n",
       "  angle.Z.gravityMean\n",
       "1 -0.0491            \n",
       "2 -0.0439            "
      ]
     },
     "metadata": {},
     "output_type": "display_data"
    }
   ],
   "source": [
    "test <- read.csv(\"test.csv\")\n",
    "head(test, n= 2)"
   ]
  },
  {
   "cell_type": "code",
   "execution_count": 6,
   "metadata": {},
   "outputs": [
    {
     "data": {
      "text/html": [
       "<table>\n",
       "<thead><tr><th scope=col>rn</th><th scope=col>activity</th><th scope=col>tBodyAcc.mean.X</th><th scope=col>tBodyAcc.mean.Y</th><th scope=col>tBodyAcc.mean.Z</th><th scope=col>tBodyAcc.std.X</th><th scope=col>tBodyAcc.std.Y</th><th scope=col>tBodyAcc.std.Z</th><th scope=col>tBodyAcc.mad.X</th><th scope=col>tBodyAcc.mad.Y</th><th scope=col>⋯</th><th scope=col>fBodyBodyGyroJerkMag.meanFreq</th><th scope=col>fBodyBodyGyroJerkMag.skewness</th><th scope=col>fBodyBodyGyroJerkMag.kurtosis</th><th scope=col>angle.tBodyAccMean.gravity</th><th scope=col>angle.tBodyAccJerkMean.gravityMean</th><th scope=col>angle.tBodyGyroMean.gravityMean</th><th scope=col>angle.tBodyGyroJerkMean.gravityMean</th><th scope=col>angle.X.gravityMean</th><th scope=col>angle.Y.gravityMean</th><th scope=col>angle.Z.gravityMean</th></tr></thead>\n",
       "<tbody>\n",
       "\t<tr><td> 7      </td><td>STANDING</td><td>0.279   </td><td>-0.0196 </td><td>-0.110  </td><td>-0.997  </td><td>-0.967  </td><td>-0.983  </td><td>-0.997  </td><td>-0.966  </td><td>⋯       </td><td>0.146   </td><td>-0.217  </td><td>-0.5640 </td><td>-0.2130 </td><td>-0.231  </td><td> 0.0146 </td><td>-0.190  </td><td>-0.852  </td><td>0.182   </td><td>-0.0430 </td></tr>\n",
       "\t<tr><td>11      </td><td>STANDING</td><td>0.277   </td><td>-0.0127 </td><td>-0.103  </td><td>-0.995  </td><td>-0.973  </td><td>-0.985  </td><td>-0.996  </td><td>-0.974  </td><td>⋯       </td><td>0.121   </td><td> 0.349  </td><td> 0.0577 </td><td> 0.0807 </td><td> 0.596  </td><td>-0.4760 </td><td> 0.116  </td><td>-0.852  </td><td>0.188   </td><td>-0.0347 </td></tr>\n",
       "</tbody>\n",
       "</table>\n"
      ],
      "text/latex": [
       "\\begin{tabular}{r|lllllllllllllllllllllllllllllllllllllllllllllllllllllllllllllllllllllllllllllllllllllllllllllllllllllllllllllllllllllllllllllllllllllllllllllllllllllllllllllllllllllllllllllllllllllllllllllllllllllllllllllllllllllllllllllllllllllllllllllllllllllllllllllllllllllllllllllllllllllllllllllllllllllllllllllllllllllllllllllllllllllllllllllllllllllllllllllllllllllllllllllllllllllllllllllllllllllllllllllllllllllllllllllllllllllllllllllllllllllllllllllllllllllllllllllllllllllllllllllllllllllllllllllllllllllllllllllllllllllllllllllllllllllllllllllllllllllllllllllllllll}\n",
       " rn & activity & tBodyAcc.mean.X & tBodyAcc.mean.Y & tBodyAcc.mean.Z & tBodyAcc.std.X & tBodyAcc.std.Y & tBodyAcc.std.Z & tBodyAcc.mad.X & tBodyAcc.mad.Y & ⋯ & fBodyBodyGyroJerkMag.meanFreq & fBodyBodyGyroJerkMag.skewness & fBodyBodyGyroJerkMag.kurtosis & angle.tBodyAccMean.gravity & angle.tBodyAccJerkMean.gravityMean & angle.tBodyGyroMean.gravityMean & angle.tBodyGyroJerkMean.gravityMean & angle.X.gravityMean & angle.Y.gravityMean & angle.Z.gravityMean\\\\\n",
       "\\hline\n",
       "\t  7       & STANDING & 0.279    & -0.0196  & -0.110   & -0.997   & -0.967   & -0.983   & -0.997   & -0.966   & ⋯        & 0.146    & -0.217   & -0.5640  & -0.2130  & -0.231   &  0.0146  & -0.190   & -0.852   & 0.182    & -0.0430 \\\\\n",
       "\t 11       & STANDING & 0.277    & -0.0127  & -0.103   & -0.995   & -0.973   & -0.985   & -0.996   & -0.974   & ⋯        & 0.121    &  0.349   &  0.0577  &  0.0807  &  0.596   & -0.4760  &  0.116   & -0.852   & 0.188    & -0.0347 \\\\\n",
       "\\end{tabular}\n"
      ],
      "text/markdown": [
       "\n",
       "rn | activity | tBodyAcc.mean.X | tBodyAcc.mean.Y | tBodyAcc.mean.Z | tBodyAcc.std.X | tBodyAcc.std.Y | tBodyAcc.std.Z | tBodyAcc.mad.X | tBodyAcc.mad.Y | ⋯ | fBodyBodyGyroJerkMag.meanFreq | fBodyBodyGyroJerkMag.skewness | fBodyBodyGyroJerkMag.kurtosis | angle.tBodyAccMean.gravity | angle.tBodyAccJerkMean.gravityMean | angle.tBodyGyroMean.gravityMean | angle.tBodyGyroJerkMean.gravityMean | angle.X.gravityMean | angle.Y.gravityMean | angle.Z.gravityMean | \n",
       "|---|---|\n",
       "|  7       | STANDING | 0.279    | -0.0196  | -0.110   | -0.997   | -0.967   | -0.983   | -0.997   | -0.966   | ⋯        | 0.146    | -0.217   | -0.5640  | -0.2130  | -0.231   |  0.0146  | -0.190   | -0.852   | 0.182    | -0.0430  | \n",
       "| 11       | STANDING | 0.277    | -0.0127  | -0.103   | -0.995   | -0.973   | -0.985   | -0.996   | -0.974   | ⋯        | 0.121    |  0.349   |  0.0577  |  0.0807  |  0.596   | -0.4760  |  0.116   | -0.852   | 0.188    | -0.0347  | \n",
       "\n",
       "\n"
      ],
      "text/plain": [
       "  rn activity tBodyAcc.mean.X tBodyAcc.mean.Y tBodyAcc.mean.Z tBodyAcc.std.X\n",
       "1  7 STANDING 0.279           -0.0196         -0.110          -0.997        \n",
       "2 11 STANDING 0.277           -0.0127         -0.103          -0.995        \n",
       "  tBodyAcc.std.Y tBodyAcc.std.Z tBodyAcc.mad.X tBodyAcc.mad.Y ⋯\n",
       "1 -0.967         -0.983         -0.997         -0.966         ⋯\n",
       "2 -0.973         -0.985         -0.996         -0.974         ⋯\n",
       "  fBodyBodyGyroJerkMag.meanFreq fBodyBodyGyroJerkMag.skewness\n",
       "1 0.146                         -0.217                       \n",
       "2 0.121                          0.349                       \n",
       "  fBodyBodyGyroJerkMag.kurtosis angle.tBodyAccMean.gravity\n",
       "1 -0.5640                       -0.2130                   \n",
       "2  0.0577                        0.0807                   \n",
       "  angle.tBodyAccJerkMean.gravityMean angle.tBodyGyroMean.gravityMean\n",
       "1 -0.231                              0.0146                        \n",
       "2  0.596                             -0.4760                        \n",
       "  angle.tBodyGyroJerkMean.gravityMean angle.X.gravityMean angle.Y.gravityMean\n",
       "1 -0.190                              -0.852              0.182              \n",
       "2  0.116                              -0.852              0.188              \n",
       "  angle.Z.gravityMean\n",
       "1 -0.0430            \n",
       "2 -0.0347            "
      ]
     },
     "metadata": {},
     "output_type": "display_data"
    }
   ],
   "source": [
    "train <- read.csv(\"train.csv\")\n",
    "head(train, n =2)"
   ]
  },
  {
   "cell_type": "code",
   "execution_count": 7,
   "metadata": {},
   "outputs": [],
   "source": [
    "# Check some summary plots/stats\n",
    "corTrain <- cor(train[, (3:100)])\n",
    "#corrplot(corTrain, method = 'color',tl.pos = \"n\")\n"
   ]
  },
  {
   "cell_type": "code",
   "execution_count": 8,
   "metadata": {},
   "outputs": [],
   "source": [
    "#plot(train$activity, las = 3, col = 'darkred')"
   ]
  },
  {
   "cell_type": "code",
   "execution_count": 9,
   "metadata": {},
   "outputs": [],
   "source": [
    "#This code block is from the clusterv source code fro random projections available at:\n",
    "#http://homes.di.unimi.it/valenti/SW/clusterv-source/rp.R\n",
    "\n",
    "# Random projections to a lower dimension subspace with the Achlioptas' projection matrix\n",
    "# The projection is performed using a  projection matrix P s.t. Prob(P[i,j]=sqrt(3))=Prob(P[i,j]=-sqrt(3)=1/6;\n",
    "# Prob(P[i,j]=0)=2/3\n",
    "# Input:\n",
    "# d : subspace dimension\n",
    "# m : data matrix (rows are features and columns are examples)\n",
    "# scaling : if TRUE (default) scaling is performed\n",
    "# Output:\n",
    "# data matrix (dimension d X ncol(m)) of the examples projected in a d-dimensional random subspace\n",
    "Achlioptas.random.projection <- function(d=2, m, scaling=TRUE){\n",
    "  d.original <- nrow(m);\n",
    "  if (d >= d.original)\n",
    "    stop(\"norm.random.projection: subspace dimension must be lower than space dimension\", call.=FALSE);\n",
    "  # Projection matrix\n",
    "  P <- floor(runif(d*d.original,1,7)); # generate a vector 1 to 6 valued\n",
    "  sqr3 <- sqrt(3);\n",
    "  P[P==1] <- sqr3;\n",
    "  P[P==6] <- -sqr3;\n",
    "  P[P==2 | P==3 | P==4 | P==5] <- 0;\n",
    "  P <- matrix(P, nrow=d);\n",
    "  \n",
    "  # random data projection\n",
    "  if (scaling == TRUE)\n",
    "    reduced.m <- sqrt(1/d) * (P%*%m)\n",
    "  else \n",
    "    reduced.m <- P%*%m;;\n",
    "  reduced.m \n",
    "}\n",
    "\n",
    "# Prediction of the dimension of random projection we need to obtain a given distortion according to JL lemma\n",
    "# Input:\n",
    "# n : cardinality of the data\n",
    "# epsilon : distortion (0 < epsilon <= 0.5)\n",
    "# Output:\n",
    "# minimum dimension\n",
    "JL.predict.dim <- function(n, epsilon=0.5) {\n",
    "  d <- 4 * (log(n) / epsilon^2);\n",
    "  ceiling(d)\n",
    "}"
   ]
  },
  {
   "cell_type": "code",
   "execution_count": 10,
   "metadata": {},
   "outputs": [
    {
     "data": {
      "text/html": [
       "132"
      ],
      "text/latex": [
       "132"
      ],
      "text/markdown": [
       "132"
      ],
      "text/plain": [
       "[1] 132"
      ]
     },
     "metadata": {},
     "output_type": "display_data"
    }
   ],
   "source": [
    "n = length(train$activity)-2\n",
    "JL.predict.dim(n, epsilon = 0.5)"
   ]
  },
  {
   "cell_type": "code",
   "execution_count": 11,
   "metadata": {},
   "outputs": [
    {
     "data": {
      "text/html": [
       "<table>\n",
       "<thead><tr><th scope=col>X1</th><th scope=col>X2</th><th scope=col>X3</th></tr></thead>\n",
       "<tbody>\n",
       "\t<tr><td>-2.56284 </td><td>-5.06506 </td><td>-25.35097</td></tr>\n",
       "\t<tr><td>-2.80182 </td><td>-2.74477 </td><td>-26.73867</td></tr>\n",
       "\t<tr><td>-5.70720 </td><td>-4.43522 </td><td>-22.22490</td></tr>\n",
       "\t<tr><td> 1.40127 </td><td>-4.84300 </td><td>-25.59307</td></tr>\n",
       "\t<tr><td>-2.59708 </td><td>-4.35027 </td><td>-26.46122</td></tr>\n",
       "\t<tr><td>-6.63617 </td><td>-3.55107 </td><td>-22.84730</td></tr>\n",
       "</tbody>\n",
       "</table>\n"
      ],
      "text/latex": [
       "\\begin{tabular}{r|lll}\n",
       " X1 & X2 & X3\\\\\n",
       "\\hline\n",
       "\t -2.56284  & -5.06506  & -25.35097\\\\\n",
       "\t -2.80182  & -2.74477  & -26.73867\\\\\n",
       "\t -5.70720  & -4.43522  & -22.22490\\\\\n",
       "\t  1.40127  & -4.84300  & -25.59307\\\\\n",
       "\t -2.59708  & -4.35027  & -26.46122\\\\\n",
       "\t -6.63617  & -3.55107  & -22.84730\\\\\n",
       "\\end{tabular}\n"
      ],
      "text/markdown": [
       "\n",
       "X1 | X2 | X3 | \n",
       "|---|---|---|---|---|---|\n",
       "| -2.56284  | -5.06506  | -25.35097 | \n",
       "| -2.80182  | -2.74477  | -26.73867 | \n",
       "| -5.70720  | -4.43522  | -22.22490 | \n",
       "|  1.40127  | -4.84300  | -25.59307 | \n",
       "| -2.59708  | -4.35027  | -26.46122 | \n",
       "| -6.63617  | -3.55107  | -22.84730 | \n",
       "\n",
       "\n"
      ],
      "text/plain": [
       "  X1       X2       X3       \n",
       "1 -2.56284 -5.06506 -25.35097\n",
       "2 -2.80182 -2.74477 -26.73867\n",
       "3 -5.70720 -4.43522 -22.22490\n",
       "4  1.40127 -4.84300 -25.59307\n",
       "5 -2.59708 -4.35027 -26.46122\n",
       "6 -6.63617 -3.55107 -22.84730"
      ]
     },
     "metadata": {},
     "output_type": "display_data"
    }
   ],
   "source": [
    "trainMatrix <- t(data.matrix(train[,-(1:2)]))\n",
    "rpResults<- data.frame(t(Achlioptas.random.projection(d = 3, trainMatrix, scaling = TRUE)))\n",
    "head(rpResults)"
   ]
  },
  {
   "cell_type": "code",
   "execution_count": 12,
   "metadata": {},
   "outputs": [],
   "source": [
    "#devisiveResults = e.divisive(data.matrix(rpResults), min.size = 5, sig.lvl = 0.5)"
   ]
  },
  {
   "cell_type": "code",
   "execution_count": 13,
   "metadata": {},
   "outputs": [],
   "source": [
    "#hard code results in to avoid rerunning above code\n",
    "devisiveResults = c(        1,        9,        25,        43,        52,        59,        74,        83,        101,        109,        114,        132,        141,        169,        199,        234,        257,        268,        277,        285,        294,        301,        311,        322,        331,        347,        369,        384,        396,        409,        417,        450,        459,        466,        473,        501,        514,        523,        534,        549,        565,        573,        599,        605,        614,        623,        650,        661,        668,        681,        693,        706,        715,        722,        743,        757,        769,        779,        807,        820,        828,        836,        848,        872,        880,        896,        912,        926,        935,        945,        955,        978,        989,        996,        1006,        1029,        1048,        1064,        1073,        1107,        1117,        1127,        1136,        1154,        1166,        1199,        1233,        1266,        1284,        1301,        1314,        1327,        1331,        1342,        1353,        1374,        1384,        1390,        1399,        1425,        1436,        1459,        1491,        1510,        1532,        1543,        1566,        1586,        1627,        1647,        1684,        1694,        1708,        1713,        1725,        1745,        1767,        1774,        1795,        1805,        1810,        1847,        1874,        1888,        1923,        1952,        1962,        1968,        1976,        1989,        2014,        2025,        2036,        2058,        2085,        2099,        2107,        2112,        2121,        2154,        2168,        2178,        2187,        2219,        2239,        2264,        2297,        2315,        2332,        2342,        2358,        2383,        2401,        2404,        2414,        2436,        2449,        2469,        2510,        2541,        2565,        2569,        2583,        2597,        2607,        2628,        2654,        2666,        2673,        2681,        2696,        2712,2731,        2744,        2759,        2767,        2786,        2790,        2799,        2816,        2830,        2840,        2852,        2855,        2864,        2875,        2878,        2887,        2913,        2920,        2925,        2935,        2953,        2962,        2974,        2983,        2988,        2995,        3016,        3041,        3066,        3079,        3097,        3104,        3130,        3145,        3159,        3182,        3191,        3212,        3221,        3239,        3255,        3290,        3317,        3349,        3375,        3389,        3399,        3407,        3419,        3445,        3467,        3491,        3512,        3522,        3555,        3572,        3587,3610)\n"
   ]
  },
  {
   "cell_type": "code",
   "execution_count": 14,
   "metadata": {},
   "outputs": [],
   "source": [
    "# Get actual changepoints\n",
    "train$changepoint[1] = TRUE\n",
    "for (x in 2:length(train$activity)){\n",
    "train$changepoint[x] = (train$activity[x] != train$activity[x-1])\n",
    "}\n",
    "pointsChange <- which(train$changepoint, arr.ind = TRUE)\n"
   ]
  },
  {
   "cell_type": "code",
   "execution_count": 15,
   "metadata": {},
   "outputs": [],
   "source": [
    "predictedCP = devisiveResults\n",
    "actualCP = pointsChange\n",
    "#plot(rpResults[1:100,'X1'],type=\"l\", col=alpha(\"black\", 0.8), lty = 3, ann=FALSE,ylim=range(-1:1)) \n",
    "\n",
    "#abline(v = actualCP, col = \"blue\")\n",
    "#abline(v = predictedCP, col = \"red\", lty = 2)"
   ]
  },
  {
   "cell_type": "code",
   "execution_count": 16,
   "metadata": {},
   "outputs": [
    {
     "data": {
      "text/html": [
       "<table>\n",
       "<tbody>\n",
       "\t<tr><td> 0  </td><td> 8  </td><td>15  </td><td>26  </td><td>41  </td><td>51  </td><td>60  </td><td>69  </td><td>71  </td><td>76  </td><td>⋯   </td><td>3521</td><td>3532</td><td>3542</td><td>3554</td><td>3560</td><td>3571</td><td>3586</td><td>3592</td><td>3598</td><td>3608</td></tr>\n",
       "\t<tr><td> 8  </td><td> 0  </td><td> 7  </td><td>18  </td><td>33  </td><td>43  </td><td>52  </td><td>61  </td><td>63  </td><td>68  </td><td>⋯   </td><td>3513</td><td>3524</td><td>3534</td><td>3546</td><td>3552</td><td>3563</td><td>3578</td><td>3584</td><td>3590</td><td>3600</td></tr>\n",
       "\t<tr><td>24  </td><td>16  </td><td> 9  </td><td> 2  </td><td>17  </td><td>27  </td><td>36  </td><td>45  </td><td>47  </td><td>52  </td><td>⋯   </td><td>3497</td><td>3508</td><td>3518</td><td>3530</td><td>3536</td><td>3547</td><td>3562</td><td>3568</td><td>3574</td><td>3584</td></tr>\n",
       "\t<tr><td>42  </td><td>34  </td><td>27  </td><td>16  </td><td> 1  </td><td> 9  </td><td>18  </td><td>27  </td><td>29  </td><td>34  </td><td>⋯   </td><td>3479</td><td>3490</td><td>3500</td><td>3512</td><td>3518</td><td>3529</td><td>3544</td><td>3550</td><td>3556</td><td>3566</td></tr>\n",
       "\t<tr><td>51  </td><td>43  </td><td>36  </td><td>25  </td><td>10  </td><td> 0  </td><td> 9  </td><td>18  </td><td>20  </td><td>25  </td><td>⋯   </td><td>3470</td><td>3481</td><td>3491</td><td>3503</td><td>3509</td><td>3520</td><td>3535</td><td>3541</td><td>3547</td><td>3557</td></tr>\n",
       "\t<tr><td>58  </td><td>50  </td><td>43  </td><td>32  </td><td>17  </td><td> 7  </td><td> 2  </td><td>11  </td><td>13  </td><td>18  </td><td>⋯   </td><td>3463</td><td>3474</td><td>3484</td><td>3496</td><td>3502</td><td>3513</td><td>3528</td><td>3534</td><td>3540</td><td>3550</td></tr>\n",
       "</tbody>\n",
       "</table>\n"
      ],
      "text/latex": [
       "\\begin{tabular}{lllllllllllllllllllllllllllllllllllllllllllllllllllllllllllllllllllllllllllllllllllllllllllllllllllllllllllllllllllllllllllllllllllllllllllllllllllllllllllllllllllllllllllllllllllllllllllllllllllllllllllllllllllllllllllllllllllllllllllllllllllllllllllllllllllllllllllllllllllllllllllllllllllllllllllllllllllllllllllllllllllllllllllllllllllllllllllllllllllllllllllllllllllllllllllllllllllllllllllllll}\n",
       "\t  0   &  8   & 15   & 26   & 41   & 51   & 60   & 69   & 71   & 76   & ⋯    & 3521 & 3532 & 3542 & 3554 & 3560 & 3571 & 3586 & 3592 & 3598 & 3608\\\\\n",
       "\t  8   &  0   &  7   & 18   & 33   & 43   & 52   & 61   & 63   & 68   & ⋯    & 3513 & 3524 & 3534 & 3546 & 3552 & 3563 & 3578 & 3584 & 3590 & 3600\\\\\n",
       "\t 24   & 16   &  9   &  2   & 17   & 27   & 36   & 45   & 47   & 52   & ⋯    & 3497 & 3508 & 3518 & 3530 & 3536 & 3547 & 3562 & 3568 & 3574 & 3584\\\\\n",
       "\t 42   & 34   & 27   & 16   &  1   &  9   & 18   & 27   & 29   & 34   & ⋯    & 3479 & 3490 & 3500 & 3512 & 3518 & 3529 & 3544 & 3550 & 3556 & 3566\\\\\n",
       "\t 51   & 43   & 36   & 25   & 10   &  0   &  9   & 18   & 20   & 25   & ⋯    & 3470 & 3481 & 3491 & 3503 & 3509 & 3520 & 3535 & 3541 & 3547 & 3557\\\\\n",
       "\t 58   & 50   & 43   & 32   & 17   &  7   &  2   & 11   & 13   & 18   & ⋯    & 3463 & 3474 & 3484 & 3496 & 3502 & 3513 & 3528 & 3534 & 3540 & 3550\\\\\n",
       "\\end{tabular}\n"
      ],
      "text/markdown": [
       "\n",
       "|  0   |  8   | 15   | 26   | 41   | 51   | 60   | 69   | 71   | 76   | ⋯    | 3521 | 3532 | 3542 | 3554 | 3560 | 3571 | 3586 | 3592 | 3598 | 3608 | \n",
       "|  8   |  0   |  7   | 18   | 33   | 43   | 52   | 61   | 63   | 68   | ⋯    | 3513 | 3524 | 3534 | 3546 | 3552 | 3563 | 3578 | 3584 | 3590 | 3600 | \n",
       "| 24   | 16   |  9   |  2   | 17   | 27   | 36   | 45   | 47   | 52   | ⋯    | 3497 | 3508 | 3518 | 3530 | 3536 | 3547 | 3562 | 3568 | 3574 | 3584 | \n",
       "| 42   | 34   | 27   | 16   |  1   |  9   | 18   | 27   | 29   | 34   | ⋯    | 3479 | 3490 | 3500 | 3512 | 3518 | 3529 | 3544 | 3550 | 3556 | 3566 | \n",
       "| 51   | 43   | 36   | 25   | 10   |  0   |  9   | 18   | 20   | 25   | ⋯    | 3470 | 3481 | 3491 | 3503 | 3509 | 3520 | 3535 | 3541 | 3547 | 3557 | \n",
       "| 58   | 50   | 43   | 32   | 17   |  7   |  2   | 11   | 13   | 18   | ⋯    | 3463 | 3474 | 3484 | 3496 | 3502 | 3513 | 3528 | 3534 | 3540 | 3550 | \n",
       "\n",
       "\n"
      ],
      "text/plain": [
       "     [,1] [,2] [,3] [,4] [,5] [,6] [,7] [,8] [,9] [,10] [,11] [,12] [,13] [,14]\n",
       "[1,]  0    8   15   26   41   51   60   69   71   76    ⋯     3521  3532  3542 \n",
       "[2,]  8    0    7   18   33   43   52   61   63   68    ⋯     3513  3524  3534 \n",
       "[3,] 24   16    9    2   17   27   36   45   47   52    ⋯     3497  3508  3518 \n",
       "[4,] 42   34   27   16    1    9   18   27   29   34    ⋯     3479  3490  3500 \n",
       "[5,] 51   43   36   25   10    0    9   18   20   25    ⋯     3470  3481  3491 \n",
       "[6,] 58   50   43   32   17    7    2   11   13   18    ⋯     3463  3474  3484 \n",
       "     [,15] [,16] [,17] [,18] [,19] [,20] [,21]\n",
       "[1,] 3554  3560  3571  3586  3592  3598  3608 \n",
       "[2,] 3546  3552  3563  3578  3584  3590  3600 \n",
       "[3,] 3530  3536  3547  3562  3568  3574  3584 \n",
       "[4,] 3512  3518  3529  3544  3550  3556  3566 \n",
       "[5,] 3503  3509  3520  3535  3541  3547  3557 \n",
       "[6,] 3496  3502  3513  3528  3534  3540  3550 "
      ]
     },
     "metadata": {},
     "output_type": "display_data"
    },
    {
     "name": "stdout",
     "output_type": "stream",
     "text": [
      "[1] \"Sum or Squares Error:\"\n"
     ]
    },
    {
     "data": {
      "text/html": [
       "122.772146678308"
      ],
      "text/latex": [
       "122.772146678308"
      ],
      "text/markdown": [
       "122.772146678308"
      ],
      "text/plain": [
       "[1] 122.7721"
      ]
     },
     "metadata": {},
     "output_type": "display_data"
    },
    {
     "name": "stdout",
     "output_type": "stream",
     "text": [
      "[1] \"Mean Squared Error:\"\n"
     ]
    },
    {
     "data": {
      "text/html": [
       "0.307699615735108"
      ],
      "text/latex": [
       "0.307699615735108"
      ],
      "text/markdown": [
       "0.307699615735108"
      ],
      "text/plain": [
       "[1] 0.3076996"
      ]
     },
     "metadata": {},
     "output_type": "display_data"
    }
   ],
   "source": [
    "#Create a matrix with the differences between each of the actual and predicted points\n",
    "i = 1\n",
    "j = 1\n",
    "accuracyCP = matrix(nrow = length(predictedCP), ncol = length(actualCP))\n",
    "for(i in 1:length(predictedCP)){ # iterate over each row\n",
    "    for(j in 1:length(actualCP)){ # iterate over each column\n",
    "        accuracyCP[i,j]=abs(predictedCP[i]-actualCP[j])\n",
    "    }\n",
    "}\n",
    "head(accuracyCP)\n",
    "\n",
    "#Create 2-norm function (sum of squares error function)\n",
    "norm_2 <- function(x) sqrt(sum(x^2))\n",
    "\n",
    "#Compute the sum of squared error\n",
    "print(\"Sum or Squares Error:\")\n",
    "norm_2(apply(accuracyCP,2,min))\n",
    "#Compute the mean squared error\n",
    "print(\"Mean Squared Error:\")\n",
    "norm_2(apply(accuracyCP,2,min))/length(actualCP)"
   ]
  },
  {
   "cell_type": "code",
   "execution_count": 18,
   "metadata": {},
   "outputs": [],
   "source": [
    "# Create a function to get the minimum of each column \n",
    "# which is the distance between an actual changepoint and its closest predicted changepoint\n",
    "#which is the distance between an actual change point and the closest \n",
    "distData = data.frame(dist = apply(accuracyCP,2,min))"
   ]
  },
  {
   "cell_type": "code",
   "execution_count": 19,
   "metadata": {},
   "outputs": [],
   "source": [
    "#ggplot(data=distData, aes(distData$dist)) + \n",
    " # geom_histogram(aes(y =..density..), \n",
    "  #               bins = 15,\n",
    "   ##              col=\"black\", \n",
    "     #            fill=\"darkred\", \n",
    "     #            alpha=.8) + \n",
    "  #geom_density(col=\"grey50\", lty = 2) + \n",
    "  #labs(title=\"\", x=\"Distance to Closest Predicted Change Point\", y=\"Frequency\")"
   ]
  },
  {
   "cell_type": "code",
   "execution_count": 20,
   "metadata": {},
   "outputs": [],
   "source": [
    "#For each row, determine for each row what the activity number is (1 until the first changepoint, then 2, and so on)\n",
    "currentActNum = 1\n",
    "train$predActNum[1] = currentActNum\n",
    "rpResults$predActNum[1] = currentActNum\n",
    "for(i in 2:length(rpResults$X1)){\n",
    "    train$predActNum[i] = currentActNum\n",
    "    rpResults$predActNum[i] = currentActNum\n",
    "    if(i %in% devisiveResults){\n",
    "        currentActNum = currentActNum + 1\n",
    "    }\n",
    "}\n",
    "#head(train, n = 40)"
   ]
  },
  {
   "cell_type": "code",
   "execution_count": 21,
   "metadata": {},
   "outputs": [],
   "source": [
    "# The following code was modified from http://www.di.fc.ul.pt/~jpn/r/fourier/fourier.html\n",
    "# returns the x.n time series for a given time sequence (ts) and\n",
    "# a vector with the amount of frequencies k in the signal (X.k)\n",
    "get.trajectory <- function(X.k,ts,acq.freq) {\n",
    "  \n",
    "  N   <- length(ts)\n",
    "  i   <- complex(real = 0, imaginary = 1)\n",
    "  x.n <- rep(0,N)           # create vector to keep the trajectory\n",
    "  ks  <- 0:(length(X.k)-1)\n",
    "  \n",
    "  for(n in 0:(N-1)) {       # compute each time point x_n based on freqs X.k\n",
    "    x.n[n+1] <- sum(X.k * cos(2*pi*ks*n/N)) / N # change this to the cos function\n",
    "  }\n",
    "  \n",
    "  x.n * acq.freq \n",
    "}"
   ]
  },
  {
   "cell_type": "code",
   "execution_count": 22,
   "metadata": {},
   "outputs": [
    {
     "data": {
      "text/html": [
       "<table>\n",
       "<thead><tr><th scope=col>cycle</th><th scope=col>freq</th><th scope=col>strength</th><th scope=col>delay</th></tr></thead>\n",
       "<tbody>\n",
       "\t<tr><td>0        </td><td>0.0000000</td><td>3.2300   </td><td> 180.0   </td></tr>\n",
       "\t<tr><td>1        </td><td>0.1111111</td><td>0.6014   </td><td> -52.9   </td></tr>\n",
       "\t<tr><td>2        </td><td>0.2222222</td><td>1.1550   </td><td>  84.5   </td></tr>\n",
       "\t<tr><td>3        </td><td>0.3333333</td><td>0.6929   </td><td> -27.7   </td></tr>\n",
       "\t<tr><td>4        </td><td>0.4444444</td><td>0.7740   </td><td>-167.0   </td></tr>\n",
       "\t<tr><td>5        </td><td>0.5555556</td><td>0.7740   </td><td> 167.0   </td></tr>\n",
       "\t<tr><td>6        </td><td>0.6666667</td><td>0.6929   </td><td>  27.7   </td></tr>\n",
       "\t<tr><td>7        </td><td>0.7777778</td><td>1.1550   </td><td> -84.5   </td></tr>\n",
       "\t<tr><td>8        </td><td>0.8888889</td><td>0.6014   </td><td>  52.9   </td></tr>\n",
       "</tbody>\n",
       "</table>\n"
      ],
      "text/latex": [
       "\\begin{tabular}{r|llll}\n",
       " cycle & freq & strength & delay\\\\\n",
       "\\hline\n",
       "\t 0         & 0.0000000 & 3.2300    &  180.0   \\\\\n",
       "\t 1         & 0.1111111 & 0.6014    &  -52.9   \\\\\n",
       "\t 2         & 0.2222222 & 1.1550    &   84.5   \\\\\n",
       "\t 3         & 0.3333333 & 0.6929    &  -27.7   \\\\\n",
       "\t 4         & 0.4444444 & 0.7740    & -167.0   \\\\\n",
       "\t 5         & 0.5555556 & 0.7740    &  167.0   \\\\\n",
       "\t 6         & 0.6666667 & 0.6929    &   27.7   \\\\\n",
       "\t 7         & 0.7777778 & 1.1550    &  -84.5   \\\\\n",
       "\t 8         & 0.8888889 & 0.6014    &   52.9   \\\\\n",
       "\\end{tabular}\n"
      ],
      "text/markdown": [
       "\n",
       "cycle | freq | strength | delay | \n",
       "|---|---|---|---|---|---|---|---|---|\n",
       "| 0         | 0.0000000 | 3.2300    |  180.0    | \n",
       "| 1         | 0.1111111 | 0.6014    |  -52.9    | \n",
       "| 2         | 0.2222222 | 1.1550    |   84.5    | \n",
       "| 3         | 0.3333333 | 0.6929    |  -27.7    | \n",
       "| 4         | 0.4444444 | 0.7740    | -167.0    | \n",
       "| 5         | 0.5555556 | 0.7740    |  167.0    | \n",
       "| 6         | 0.6666667 | 0.6929    |   27.7    | \n",
       "| 7         | 0.7777778 | 1.1550    |  -84.5    | \n",
       "| 8         | 0.8888889 | 0.6014    |   52.9    | \n",
       "\n",
       "\n"
      ],
      "text/plain": [
       "  cycle freq      strength delay \n",
       "1 0     0.0000000 3.2300    180.0\n",
       "2 1     0.1111111 0.6014    -52.9\n",
       "3 2     0.2222222 1.1550     84.5\n",
       "4 3     0.3333333 0.6929    -27.7\n",
       "5 4     0.4444444 0.7740   -167.0\n",
       "6 5     0.5555556 0.7740    167.0\n",
       "7 6     0.6666667 0.6929     27.7\n",
       "8 7     0.7777778 1.1550    -84.5\n",
       "9 8     0.8888889 0.6014     52.9"
      ]
     },
     "metadata": {},
     "output_type": "display_data"
    },
    {
     "data": {
      "text/html": [
       "<table>\n",
       "<thead><tr><th scope=col>cycle</th><th scope=col>freq</th><th scope=col>strength</th><th scope=col>delay</th></tr></thead>\n",
       "<tbody>\n",
       "\t<tr><td> 0     </td><td>0.0000 </td><td>2.7830 </td><td> 180.00</td></tr>\n",
       "\t<tr><td> 1     </td><td>0.0625 </td><td>1.2020 </td><td> -86.80</td></tr>\n",
       "\t<tr><td> 2     </td><td>0.1250 </td><td>0.5461 </td><td>   9.13</td></tr>\n",
       "\t<tr><td> 3     </td><td>0.1875 </td><td>0.5700 </td><td> -38.90</td></tr>\n",
       "\t<tr><td> 4     </td><td>0.2500 </td><td>0.3788 </td><td> 169.00</td></tr>\n",
       "\t<tr><td> 5     </td><td>0.3125 </td><td>0.2185 </td><td> -80.80</td></tr>\n",
       "\t<tr><td> 6     </td><td>0.3750 </td><td>0.4744 </td><td> 103.00</td></tr>\n",
       "\t<tr><td> 7     </td><td>0.4375 </td><td>0.5291 </td><td> -92.30</td></tr>\n",
       "\t<tr><td> 8     </td><td>0.5000 </td><td>0.2038 </td><td>   0.00</td></tr>\n",
       "\t<tr><td> 9     </td><td>0.5625 </td><td>0.5291 </td><td>  92.30</td></tr>\n",
       "\t<tr><td>10     </td><td>0.6250 </td><td>0.4744 </td><td>-103.00</td></tr>\n",
       "\t<tr><td>11     </td><td>0.6875 </td><td>0.2185 </td><td>  80.80</td></tr>\n",
       "\t<tr><td>12     </td><td>0.7500 </td><td>0.3788 </td><td>-169.00</td></tr>\n",
       "\t<tr><td>13     </td><td>0.8125 </td><td>0.5700 </td><td>  38.90</td></tr>\n",
       "\t<tr><td>14     </td><td>0.8750 </td><td>0.5461 </td><td>  -9.13</td></tr>\n",
       "\t<tr><td>15     </td><td>0.9375 </td><td>1.2020 </td><td>  86.80</td></tr>\n",
       "</tbody>\n",
       "</table>\n"
      ],
      "text/latex": [
       "\\begin{tabular}{r|llll}\n",
       " cycle & freq & strength & delay\\\\\n",
       "\\hline\n",
       "\t  0      & 0.0000  & 2.7830  &  180.00\\\\\n",
       "\t  1      & 0.0625  & 1.2020  &  -86.80\\\\\n",
       "\t  2      & 0.1250  & 0.5461  &    9.13\\\\\n",
       "\t  3      & 0.1875  & 0.5700  &  -38.90\\\\\n",
       "\t  4      & 0.2500  & 0.3788  &  169.00\\\\\n",
       "\t  5      & 0.3125  & 0.2185  &  -80.80\\\\\n",
       "\t  6      & 0.3750  & 0.4744  &  103.00\\\\\n",
       "\t  7      & 0.4375  & 0.5291  &  -92.30\\\\\n",
       "\t  8      & 0.5000  & 0.2038  &    0.00\\\\\n",
       "\t  9      & 0.5625  & 0.5291  &   92.30\\\\\n",
       "\t 10      & 0.6250  & 0.4744  & -103.00\\\\\n",
       "\t 11      & 0.6875  & 0.2185  &   80.80\\\\\n",
       "\t 12      & 0.7500  & 0.3788  & -169.00\\\\\n",
       "\t 13      & 0.8125  & 0.5700  &   38.90\\\\\n",
       "\t 14      & 0.8750  & 0.5461  &   -9.13\\\\\n",
       "\t 15      & 0.9375  & 1.2020  &   86.80\\\\\n",
       "\\end{tabular}\n"
      ],
      "text/markdown": [
       "\n",
       "cycle | freq | strength | delay | \n",
       "|---|---|---|---|---|---|---|---|---|---|---|---|---|---|---|---|\n",
       "|  0      | 0.0000  | 2.7830  |  180.00 | \n",
       "|  1      | 0.0625  | 1.2020  |  -86.80 | \n",
       "|  2      | 0.1250  | 0.5461  |    9.13 | \n",
       "|  3      | 0.1875  | 0.5700  |  -38.90 | \n",
       "|  4      | 0.2500  | 0.3788  |  169.00 | \n",
       "|  5      | 0.3125  | 0.2185  |  -80.80 | \n",
       "|  6      | 0.3750  | 0.4744  |  103.00 | \n",
       "|  7      | 0.4375  | 0.5291  |  -92.30 | \n",
       "|  8      | 0.5000  | 0.2038  |    0.00 | \n",
       "|  9      | 0.5625  | 0.5291  |   92.30 | \n",
       "| 10      | 0.6250  | 0.4744  | -103.00 | \n",
       "| 11      | 0.6875  | 0.2185  |   80.80 | \n",
       "| 12      | 0.7500  | 0.3788  | -169.00 | \n",
       "| 13      | 0.8125  | 0.5700  |   38.90 | \n",
       "| 14      | 0.8750  | 0.5461  |   -9.13 | \n",
       "| 15      | 0.9375  | 1.2020  |   86.80 | \n",
       "\n",
       "\n"
      ],
      "text/plain": [
       "   cycle freq   strength delay  \n",
       "1   0    0.0000 2.7830    180.00\n",
       "2   1    0.0625 1.2020    -86.80\n",
       "3   2    0.1250 0.5461      9.13\n",
       "4   3    0.1875 0.5700    -38.90\n",
       "5   4    0.2500 0.3788    169.00\n",
       "6   5    0.3125 0.2185    -80.80\n",
       "7   6    0.3750 0.4744    103.00\n",
       "8   7    0.4375 0.5291    -92.30\n",
       "9   8    0.5000 0.2038      0.00\n",
       "10  9    0.5625 0.5291     92.30\n",
       "11 10    0.6250 0.4744   -103.00\n",
       "12 11    0.6875 0.2185     80.80\n",
       "13 12    0.7500 0.3788   -169.00\n",
       "14 13    0.8125 0.5700     38.90\n",
       "15 14    0.8750 0.5461     -9.13\n",
       "16 15    0.9375 1.2020     86.80"
      ]
     },
     "metadata": {},
     "output_type": "display_data"
    },
    {
     "data": {
      "text/html": [
       "<table>\n",
       "<thead><tr><th scope=col>cycle</th><th scope=col>freq</th><th scope=col>strength</th><th scope=col>delay</th></tr></thead>\n",
       "<tbody>\n",
       "\t<tr><td>0        </td><td>0.0000000</td><td>3.8730   </td><td> 180.0   </td></tr>\n",
       "\t<tr><td>1        </td><td>0.1111111</td><td>1.1290   </td><td>  95.2   </td></tr>\n",
       "\t<tr><td>2        </td><td>0.2222222</td><td>0.4791   </td><td> 142.0   </td></tr>\n",
       "\t<tr><td>3        </td><td>0.3333333</td><td>0.3298   </td><td>  19.2   </td></tr>\n",
       "\t<tr><td>4        </td><td>0.4444444</td><td>0.8569   </td><td> -96.2   </td></tr>\n",
       "\t<tr><td>5        </td><td>0.5555556</td><td>0.8569   </td><td>  96.2   </td></tr>\n",
       "\t<tr><td>6        </td><td>0.6666667</td><td>0.3298   </td><td> -19.2   </td></tr>\n",
       "\t<tr><td>7        </td><td>0.7777778</td><td>0.4791   </td><td>-142.0   </td></tr>\n",
       "\t<tr><td>8        </td><td>0.8888889</td><td>1.1290   </td><td> -95.2   </td></tr>\n",
       "</tbody>\n",
       "</table>\n"
      ],
      "text/latex": [
       "\\begin{tabular}{r|llll}\n",
       " cycle & freq & strength & delay\\\\\n",
       "\\hline\n",
       "\t 0         & 0.0000000 & 3.8730    &  180.0   \\\\\n",
       "\t 1         & 0.1111111 & 1.1290    &   95.2   \\\\\n",
       "\t 2         & 0.2222222 & 0.4791    &  142.0   \\\\\n",
       "\t 3         & 0.3333333 & 0.3298    &   19.2   \\\\\n",
       "\t 4         & 0.4444444 & 0.8569    &  -96.2   \\\\\n",
       "\t 5         & 0.5555556 & 0.8569    &   96.2   \\\\\n",
       "\t 6         & 0.6666667 & 0.3298    &  -19.2   \\\\\n",
       "\t 7         & 0.7777778 & 0.4791    & -142.0   \\\\\n",
       "\t 8         & 0.8888889 & 1.1290    &  -95.2   \\\\\n",
       "\\end{tabular}\n"
      ],
      "text/markdown": [
       "\n",
       "cycle | freq | strength | delay | \n",
       "|---|---|---|---|---|---|---|---|---|\n",
       "| 0         | 0.0000000 | 3.8730    |  180.0    | \n",
       "| 1         | 0.1111111 | 1.1290    |   95.2    | \n",
       "| 2         | 0.2222222 | 0.4791    |  142.0    | \n",
       "| 3         | 0.3333333 | 0.3298    |   19.2    | \n",
       "| 4         | 0.4444444 | 0.8569    |  -96.2    | \n",
       "| 5         | 0.5555556 | 0.8569    |   96.2    | \n",
       "| 6         | 0.6666667 | 0.3298    |  -19.2    | \n",
       "| 7         | 0.7777778 | 0.4791    | -142.0    | \n",
       "| 8         | 0.8888889 | 1.1290    |  -95.2    | \n",
       "\n",
       "\n"
      ],
      "text/plain": [
       "  cycle freq      strength delay \n",
       "1 0     0.0000000 3.8730    180.0\n",
       "2 1     0.1111111 1.1290     95.2\n",
       "3 2     0.2222222 0.4791    142.0\n",
       "4 3     0.3333333 0.3298     19.2\n",
       "5 4     0.4444444 0.8569    -96.2\n",
       "6 5     0.5555556 0.8569     96.2\n",
       "7 6     0.6666667 0.3298    -19.2\n",
       "8 7     0.7777778 0.4791   -142.0\n",
       "9 8     0.8888889 1.1290    -95.2"
      ]
     },
     "metadata": {},
     "output_type": "display_data"
    }
   ],
   "source": [
    "# cs is the vector of complex points to convert\n",
    "#Explore FFT Results\n",
    "convert.fft <- function(cs, sample.rate=1) {\n",
    "  cs <- cs / length(cs) # normalize\n",
    "\n",
    "  distance.center <- function(c)signif( Mod(c),        4)\n",
    "  angle           <- function(c)signif( 180*Arg(c)/pi, 3)\n",
    "  \n",
    "  df <- data.frame(cycle    = 0:(length(cs)-1),\n",
    "                   freq     = 0:(length(cs)-1) * sample.rate / length(cs),\n",
    "                   strength = sapply(cs, distance.center),\n",
    "                   delay    = sapply(cs, angle))\n",
    "  df\n",
    "}\n",
    "\n",
    "#View the fourier cycles for a couple of the unidentified activities\n",
    "convert.fft(fft(rpResults[which(rpResults$predActNum == 1),\"X1\"]))\n",
    "convert.fft(fft(rpResults[which(rpResults$predActNum == 2),\"X1\"]))\n",
    "convert.fft(fft(rpResults[which(rpResults$predActNum == 4),\"X1\"]))"
   ]
  },
  {
   "cell_type": "code",
   "execution_count": 23,
   "metadata": {},
   "outputs": [],
   "source": [
    "X.k = fft(rpResults[which(rpResults$predActNum == 1),\"X1\"])\n",
    "X.k = fft(X.k, inverse = TRUE)/length(X.k)\n",
    "time     <- 2.56                            # measuring time interval (seconds) from data description\n",
    "acq.freq <- 50                          # data acquisition frequency (Hz) from data description\n",
    "ts  <- seq(0,time-1/acq.freq,1/acq.freq) # vector of sampling time-points (s) \n",
    "\n",
    "x.n <- get.trajectory(X.k,ts,acq.freq)   # create time wave\n"
   ]
  },
  {
   "cell_type": "code",
   "execution_count": 24,
   "metadata": {},
   "outputs": [
    {
     "data": {
      "text/html": [
       "128"
      ],
      "text/latex": [
       "128"
      ],
      "text/markdown": [
       "128"
      ],
      "text/plain": [
       "[1] 128"
      ]
     },
     "metadata": {},
     "output_type": "display_data"
    }
   ],
   "source": [
    "#Fourier Series\n",
    "length(x.n)"
   ]
  },
  {
   "cell_type": "code",
   "execution_count": 25,
   "metadata": {},
   "outputs": [],
   "source": [
    "#Function to plot a harmonic series\n",
    "#From http://www.di.fc.ul.pt/~jpn/r/fourier/fourier.html\n",
    "#plot.harmonic <- function(Xk, i, ts, acq.freq, color=\"red\") {\n",
    "#  Xk.h <- rep(0,length(Xk))\n",
    " # Xk.h[i+1] <- Xk[i+1] # i-th harmonic\n",
    " #harmonic.trajectory <- get.trajectory(Xk.h, ts, acq.freq=acq.freq)\n",
    " # points(ts, harmonic.trajectory, type=\"l\", col=color)\n",
    "#}"
   ]
  },
  {
   "cell_type": "code",
   "execution_count": 26,
   "metadata": {},
   "outputs": [],
   "source": [
    "#Plot the inverse fast fourier transform with its first 3 harmonic oscillations\n",
    "#This will remove the imaginary parts which is ok because the imaginary parts are all 0.\n",
    "\n",
    "#plot(ts,x.n,type=\"l\",ylim=c(-5,4),lwd=2, xlab = \"Time\", ylab = \"Position\")\n",
    "#abline(v=0:time,h=-2:4,lty=3); abline(h=0)\n",
    "\n",
    "#plot.harmonic(X.k,1,ts,acq.freq,\"red\")\n",
    "#plot.harmonic(X.k,2,ts,acq.freq,\"green\")\n",
    "#plot.harmonic(X.k,3,ts,acq.freq,\"blue\")"
   ]
  },
  {
   "cell_type": "code",
   "execution_count": 27,
   "metadata": {},
   "outputs": [],
   "source": [
    "a = table(rpResults$predActNum)"
   ]
  },
  {
   "cell_type": "code",
   "execution_count": 28,
   "metadata": {},
   "outputs": [
    {
     "data": {
      "text/html": [
       "<dl class=dl-horizontal>\n",
       "\t<dt>108</dt>\n",
       "\t\t<dd>108</dd>\n",
       "\t<dt>158</dt>\n",
       "\t\t<dd>158</dd>\n",
       "</dl>\n"
      ],
      "text/latex": [
       "\\begin{description*}\n",
       "\\item[108] 108\n",
       "\\item[158] 158\n",
       "\\end{description*}\n"
      ],
      "text/markdown": [
       "108\n",
       ":   108158\n",
       ":   158\n",
       "\n"
      ],
      "text/plain": [
       "108 158 \n",
       "108 158 "
      ]
     },
     "metadata": {},
     "output_type": "display_data"
    },
    {
     "data": {
      "text/html": [
       "41"
      ],
      "text/latex": [
       "41"
      ],
      "text/markdown": [
       "41"
      ],
      "text/plain": [
       "[1] 41"
      ]
     },
     "metadata": {},
     "output_type": "display_data"
    }
   ],
   "source": [
    "#Find table position with max length\n",
    "which(a==max(a))\n",
    "#Find max length\n",
    "max(a)"
   ]
  },
  {
   "cell_type": "code",
   "execution_count": 29,
   "metadata": {},
   "outputs": [],
   "source": [
    "# Plot Fourier transform for max length activity\n",
    "X.k.max = fft(rpResults[which(rpResults$predActNum == 158),\"X1\"])\n",
    "X.k.max = fft(X.k.max, inverse = TRUE)/length(X.k.max)\n",
    "time     <- 2.56                            # measuring time interval (seconds) from data description\n",
    "acq.freq <- 50                          # data acquisition frequency (Hz) from data description\n",
    "ts  <- seq(0,time-1/acq.freq,1/acq.freq) # vector of sampling time-points (s) \n",
    "\n",
    "x.n.max <- get.trajectory(X.k.max,ts,acq.freq)   # create time wave\n",
    "\n",
    "#plot(ts,x.n.max,type=\"l\",ylim=c(-8,8),lwd=2, main= \"\", xlab = \"Time\", ylab = \"Position\")\n",
    "#abline(v=0:time,h=-2:4,lty=3); abline(h=0)\n",
    "\n",
    "#plot.harmonic(X.k.max,1,ts,acq.freq,\"red\")\n",
    "#plot.harmonic(X.k.max,2,ts,acq.freq,\"green\")\n",
    "#plot.harmonic(X.k.max,3,ts,acq.freq,\"blue\")\n",
    "#length(x.n.max)"
   ]
  },
  {
   "cell_type": "code",
   "execution_count": 30,
   "metadata": {},
   "outputs": [],
   "source": [
    "#Get the three waves for each activity\n",
    "#Create Matrix with one activity segment per row, one series per column. \n",
    "#This should give an n*3*128 matrix where n is the number of distinct activities and a is the number of \n",
    "activityMatrix = array(rep(0, length(unique(rpResults$predActNum))* 3*128), dim = c( 128, 3, length(unique(rpResults$predActNum))))\n",
    "#for(i in 1:length(devisiveResults)){\n",
    "#    activityMatrix[nrow(activityMatrix) + 1,] = list(hello=\"hallo\",goodbye=\"auf wiedersehen\", volume=20.2)\n",
    "#}"
   ]
  },
  {
   "cell_type": "code",
   "execution_count": 31,
   "metadata": {},
   "outputs": [
    {
     "data": {
      "text/html": [
       "<ol class=list-inline>\n",
       "\t<li>128</li>\n",
       "\t<li>3</li>\n",
       "\t<li>229</li>\n",
       "</ol>\n"
      ],
      "text/latex": [
       "\\begin{enumerate*}\n",
       "\\item 128\n",
       "\\item 3\n",
       "\\item 229\n",
       "\\end{enumerate*}\n"
      ],
      "text/markdown": [
       "1. 128\n",
       "2. 3\n",
       "3. 229\n",
       "\n",
       "\n"
      ],
      "text/plain": [
       "[1] 128   3 229"
      ]
     },
     "metadata": {},
     "output_type": "display_data"
    }
   ],
   "source": [
    "dim(activityMatrix)"
   ]
  },
  {
   "cell_type": "code",
   "execution_count": 32,
   "metadata": {},
   "outputs": [],
   "source": [
    "time     <- 2.56                         # measuring time interval (seconds) from data description\n",
    "acq.freq <- 50                           # data acquisition frequency (Hz) from data description\n",
    "ts  <- seq(0,time-1/acq.freq,1/acq.freq) # vector of sampling time-points (s) \n",
    "\n",
    "randPros = c(\"X1\", \"X2\", \"X3\")\n",
    "for(i in 1:3){\n",
    "    for(j in 1:229){\n",
    "        X.k.j = fft(rpResults[which(rpResults$predActNum == j),randPros[i]])\n",
    "        X.k.j = fft(X.k.j, inverse = TRUE)/length(X.k.j)\n",
    "        x.n.j <- get.trajectory(X.k.j,ts,acq.freq)   # create time wave\n",
    "        activityMatrix[,i,j] = x.n.j\n",
    "    }\n",
    "}"
   ]
  },
  {
   "cell_type": "code",
   "execution_count": 33,
   "metadata": {},
   "outputs": [],
   "source": [
    "i = 1\n",
    "j = 1\n",
    "time     <- 2.56                         # measuring time interval (seconds) from data description\n",
    "acq.freq <- 50                           # data acquisition frequency (Hz) from data description\n",
    "ts  <- seq(0,time-1/acq.freq,1/acq.freq) # vector of sampling time-points (s) \n",
    "randPros = c(\"X1\", \"X2\", \"X3\")"
   ]
  },
  {
   "cell_type": "code",
   "execution_count": 34,
   "metadata": {},
   "outputs": [
    {
     "data": {
      "text/html": [
       "<ol class=list-inline>\n",
       "\t<li>-11.3562181640625-0i</li>\n",
       "\t<li>-11.0439402701062-0i</li>\n",
       "\t<li>-10.1353157931724-0i</li>\n",
       "\t<li>-8.71207604696205-0i</li>\n",
       "\t<li>-6.90110852937597-0i</li>\n",
       "\t<li>-4.8615519934155-0i</li>\n",
       "\t<li>-2.76878058861913-0i</li>\n",
       "\t<li>-0.797034241134205-0i</li>\n",
       "\t<li>0.897424167374992-0i</li>\n",
       "\t<li>2.19083859472663-0i</li>\n",
       "\t<li>3.00268791626984-0i</li>\n",
       "\t<li>3.30158540698144-0i</li>\n",
       "\t<li>3.10589070061329+0i</li>\n",
       "\t<li>2.47917959850468+0i</li>\n",
       "\t<li>1.52128519183635+0i</li>\n",
       "\t<li>0.356089393033785+0i</li>\n",
       "\t<li>-0.882444728914134+0i</li>\n",
       "\t<li>-2.06438388958328+0i</li>\n",
       "\t<li>-3.07653084146375+0i</li>\n",
       "\t<li>-3.83242317967017-0i</li>\n",
       "\t<li>-4.27870709984917-0i</li>\n",
       "\t<li>-4.39744067727481-0i</li>\n",
       "\t<li>-4.20437910101052-0i</li>\n",
       "\t<li>-3.7437562080383-0i</li>\n",
       "\t<li>-3.0804484222303-0i</li>\n",
       "\t<li>-2.2906485723094+0i</li>\n",
       "\t<li>-1.45226619081993+0i</li>\n",
       "\t<li>-0.636206182680265+0i</li>\n",
       "\t<li>0.100522994351887+0i</li>\n",
       "\t<li>0.719223372598024+0i</li>\n",
       "\t<li>1.2011557286956+0i</li>\n",
       "\t<li>1.54650242989334+0i</li>\n",
       "\t<li>1.7710546875+0i</li>\n",
       "\t<li>1.90128550928189+0i</li>\n",
       "\t<li>1.96861681543719+0i</li>\n",
       "\t<li>2.00372097332397+0i</li>\n",
       "\t<li>2.03161804109221+0i</li>\n",
       "\t<li>2.06815895140971+0i</li>\n",
       "\t<li>2.11825098546462-0i</li>\n",
       "\t<li>2.17592045940317-0i</li>\n",
       "\t<li>2.22605475870069-0i</li>\n",
       "\t<li>2.24745396250676-0i</li>\n",
       "\t<li>2.21667564826488-0i</li>\n",
       "\t<li>2.11208889677977+0i</li>\n",
       "\t<li>1.91756737338518+0i</li>\n",
       "\t<li>1.62533813351806+0i</li>\n",
       "\t<li>1.23764518756007+0i</li>\n",
       "\t<li>0.767061834666568+0i</li>\n",
       "\t<li>0.235468166414135+0i</li>\n",
       "\t<li>-0.32812383252667+0i</li>\n",
       "\t<li>-0.890584879491153+0i</li>\n",
       "\t<li>-1.41812831930567-0i</li>\n",
       "\t<li>-1.87979335026812-0i</li>\n",
       "\t<li>-2.25055385720635-0i</li>\n",
       "\t<li>-2.51372327068268-0i</li>\n",
       "\t<li>-2.66242515239289-0i</li>\n",
       "\t<li>-2.70001487884539-0i</li>\n",
       "\t<li>-2.63945511635002-0i</li>\n",
       "\t<li>-2.50175391483007-0i</li>\n",
       "\t<li>-2.31365957094187-0i</li>\n",
       "\t<li>-2.10486512994932-0i</li>\n",
       "\t<li>-1.90500550565897-0i</li>\n",
       "\t<li>-1.74073289343889+0i</li>\n",
       "\t<li>-1.63313490107119+0i</li>\n",
       "\t<li>-1.5957193359375+0i</li>\n",
       "\t<li>-1.63313490107119+0i</li>\n",
       "\t<li>-1.74073289343888+0i</li>\n",
       "\t<li>-1.90500550565897-0i</li>\n",
       "\t<li>-2.10486512994931-0i</li>\n",
       "\t<li>-2.31365957094187-0i</li>\n",
       "\t<li>-2.50175391483007-0i</li>\n",
       "\t<li>-2.63945511635002-0i</li>\n",
       "\t<li>-2.70001487884539-0i</li>\n",
       "\t<li>-2.6624251523929-0i</li>\n",
       "\t<li>-2.51372327068268-0i</li>\n",
       "\t<li>-2.25055385720635-0i</li>\n",
       "\t<li>-1.87979335026812-0i</li>\n",
       "\t<li>-1.41812831930568-0i</li>\n",
       "\t<li>-0.890584879491157+0i</li>\n",
       "\t<li>-0.328123832526672+0i</li>\n",
       "\t<li>0.235468166414135+0i</li>\n",
       "\t<li>0.767061834666562+0i</li>\n",
       "\t<li>1.23764518756007+0i</li>\n",
       "\t<li>1.62533813351806+0i</li>\n",
       "\t<li>1.91756737338518+0i</li>\n",
       "\t<li>2.11208889677977+0i</li>\n",
       "\t<li>2.21667564826488-0i</li>\n",
       "\t<li>2.24745396250676-0i</li>\n",
       "\t<li>2.2260547587007-0i</li>\n",
       "\t<li>2.17592045940316-0i</li>\n",
       "\t<li>2.11825098546462-0i</li>\n",
       "\t<li>2.06815895140972+0i</li>\n",
       "\t<li>2.03161804109221+0i</li>\n",
       "\t<li>2.00372097332397+0i</li>\n",
       "\t<li>1.96861681543719+0i</li>\n",
       "\t<li>1.9012855092819+0i</li>\n",
       "\t<li>1.77105468750001+0i</li>\n",
       "\t<li>1.54650242989334+0i</li>\n",
       "\t<li>1.20115572869561+0i</li>\n",
       "\t<li>0.719223372598023+0i</li>\n",
       "\t<li>0.100522994351892+0i</li>\n",
       "\t<li>-0.636206182680256+0i</li>\n",
       "\t<li>-1.45226619081992+0i</li>\n",
       "\t<li>-2.29064857230939+0i</li>\n",
       "\t<li>-3.0804484222303-0i</li>\n",
       "\t<li>-3.7437562080383-0i</li>\n",
       "\t<li>-4.20437910101052-0i</li>\n",
       "\t<li>-4.39744067727481-0i</li>\n",
       "\t<li>-4.27870709984918-0i</li>\n",
       "\t<li>-3.83242317967017-0i</li>\n",
       "\t<li>-3.07653084146376+0i</li>\n",
       "\t<li>-2.06438388958328+0i</li>\n",
       "\t<li>-0.882444728914141+0i</li>\n",
       "\t<li>0.356089393033772+0i</li>\n",
       "\t<li>1.52128519183634+0i</li>\n",
       "\t<li>2.47917959850467+0i</li>\n",
       "\t<li>3.10589070061329+0i</li>\n",
       "\t<li>3.30158540698144-0i</li>\n",
       "\t<li>3.00268791626984-0i</li>\n",
       "\t<li>2.19083859472664-0i</li>\n",
       "\t<li>0.897424167375002-0i</li>\n",
       "\t<li>-0.797034241134207-0i</li>\n",
       "\t<li>-2.76878058861913-0i</li>\n",
       "\t<li>-4.86155199341549-0i</li>\n",
       "\t<li>-6.90110852937595-0i</li>\n",
       "\t<li>-8.71207604696204-0i</li>\n",
       "\t<li>-10.1353157931724-0i</li>\n",
       "\t<li>-11.0439402701062-0i</li>\n",
       "</ol>\n"
      ],
      "text/latex": [
       "\\begin{enumerate*}\n",
       "\\item -11.3562181640625-0i\n",
       "\\item -11.0439402701062-0i\n",
       "\\item -10.1353157931724-0i\n",
       "\\item -8.71207604696205-0i\n",
       "\\item -6.90110852937597-0i\n",
       "\\item -4.8615519934155-0i\n",
       "\\item -2.76878058861913-0i\n",
       "\\item -0.797034241134205-0i\n",
       "\\item 0.897424167374992-0i\n",
       "\\item 2.19083859472663-0i\n",
       "\\item 3.00268791626984-0i\n",
       "\\item 3.30158540698144-0i\n",
       "\\item 3.10589070061329+0i\n",
       "\\item 2.47917959850468+0i\n",
       "\\item 1.52128519183635+0i\n",
       "\\item 0.356089393033785+0i\n",
       "\\item -0.882444728914134+0i\n",
       "\\item -2.06438388958328+0i\n",
       "\\item -3.07653084146375+0i\n",
       "\\item -3.83242317967017-0i\n",
       "\\item -4.27870709984917-0i\n",
       "\\item -4.39744067727481-0i\n",
       "\\item -4.20437910101052-0i\n",
       "\\item -3.7437562080383-0i\n",
       "\\item -3.0804484222303-0i\n",
       "\\item -2.2906485723094+0i\n",
       "\\item -1.45226619081993+0i\n",
       "\\item -0.636206182680265+0i\n",
       "\\item 0.100522994351887+0i\n",
       "\\item 0.719223372598024+0i\n",
       "\\item 1.2011557286956+0i\n",
       "\\item 1.54650242989334+0i\n",
       "\\item 1.7710546875+0i\n",
       "\\item 1.90128550928189+0i\n",
       "\\item 1.96861681543719+0i\n",
       "\\item 2.00372097332397+0i\n",
       "\\item 2.03161804109221+0i\n",
       "\\item 2.06815895140971+0i\n",
       "\\item 2.11825098546462-0i\n",
       "\\item 2.17592045940317-0i\n",
       "\\item 2.22605475870069-0i\n",
       "\\item 2.24745396250676-0i\n",
       "\\item 2.21667564826488-0i\n",
       "\\item 2.11208889677977+0i\n",
       "\\item 1.91756737338518+0i\n",
       "\\item 1.62533813351806+0i\n",
       "\\item 1.23764518756007+0i\n",
       "\\item 0.767061834666568+0i\n",
       "\\item 0.235468166414135+0i\n",
       "\\item -0.32812383252667+0i\n",
       "\\item -0.890584879491153+0i\n",
       "\\item -1.41812831930567-0i\n",
       "\\item -1.87979335026812-0i\n",
       "\\item -2.25055385720635-0i\n",
       "\\item -2.51372327068268-0i\n",
       "\\item -2.66242515239289-0i\n",
       "\\item -2.70001487884539-0i\n",
       "\\item -2.63945511635002-0i\n",
       "\\item -2.50175391483007-0i\n",
       "\\item -2.31365957094187-0i\n",
       "\\item -2.10486512994932-0i\n",
       "\\item -1.90500550565897-0i\n",
       "\\item -1.74073289343889+0i\n",
       "\\item -1.63313490107119+0i\n",
       "\\item -1.5957193359375+0i\n",
       "\\item -1.63313490107119+0i\n",
       "\\item -1.74073289343888+0i\n",
       "\\item -1.90500550565897-0i\n",
       "\\item -2.10486512994931-0i\n",
       "\\item -2.31365957094187-0i\n",
       "\\item -2.50175391483007-0i\n",
       "\\item -2.63945511635002-0i\n",
       "\\item -2.70001487884539-0i\n",
       "\\item -2.6624251523929-0i\n",
       "\\item -2.51372327068268-0i\n",
       "\\item -2.25055385720635-0i\n",
       "\\item -1.87979335026812-0i\n",
       "\\item -1.41812831930568-0i\n",
       "\\item -0.890584879491157+0i\n",
       "\\item -0.328123832526672+0i\n",
       "\\item 0.235468166414135+0i\n",
       "\\item 0.767061834666562+0i\n",
       "\\item 1.23764518756007+0i\n",
       "\\item 1.62533813351806+0i\n",
       "\\item 1.91756737338518+0i\n",
       "\\item 2.11208889677977+0i\n",
       "\\item 2.21667564826488-0i\n",
       "\\item 2.24745396250676-0i\n",
       "\\item 2.2260547587007-0i\n",
       "\\item 2.17592045940316-0i\n",
       "\\item 2.11825098546462-0i\n",
       "\\item 2.06815895140972+0i\n",
       "\\item 2.03161804109221+0i\n",
       "\\item 2.00372097332397+0i\n",
       "\\item 1.96861681543719+0i\n",
       "\\item 1.9012855092819+0i\n",
       "\\item 1.77105468750001+0i\n",
       "\\item 1.54650242989334+0i\n",
       "\\item 1.20115572869561+0i\n",
       "\\item 0.719223372598023+0i\n",
       "\\item 0.100522994351892+0i\n",
       "\\item -0.636206182680256+0i\n",
       "\\item -1.45226619081992+0i\n",
       "\\item -2.29064857230939+0i\n",
       "\\item -3.0804484222303-0i\n",
       "\\item -3.7437562080383-0i\n",
       "\\item -4.20437910101052-0i\n",
       "\\item -4.39744067727481-0i\n",
       "\\item -4.27870709984918-0i\n",
       "\\item -3.83242317967017-0i\n",
       "\\item -3.07653084146376+0i\n",
       "\\item -2.06438388958328+0i\n",
       "\\item -0.882444728914141+0i\n",
       "\\item 0.356089393033772+0i\n",
       "\\item 1.52128519183634+0i\n",
       "\\item 2.47917959850467+0i\n",
       "\\item 3.10589070061329+0i\n",
       "\\item 3.30158540698144-0i\n",
       "\\item 3.00268791626984-0i\n",
       "\\item 2.19083859472664-0i\n",
       "\\item 0.897424167375002-0i\n",
       "\\item -0.797034241134207-0i\n",
       "\\item -2.76878058861913-0i\n",
       "\\item -4.86155199341549-0i\n",
       "\\item -6.90110852937595-0i\n",
       "\\item -8.71207604696204-0i\n",
       "\\item -10.1353157931724-0i\n",
       "\\item -11.0439402701062-0i\n",
       "\\end{enumerate*}\n"
      ],
      "text/markdown": [
       "1. -11.3562181640625-0i\n",
       "2. -11.0439402701062-0i\n",
       "3. -10.1353157931724-0i\n",
       "4. -8.71207604696205-0i\n",
       "5. -6.90110852937597-0i\n",
       "6. -4.8615519934155-0i\n",
       "7. -2.76878058861913-0i\n",
       "8. -0.797034241134205-0i\n",
       "9. 0.897424167374992-0i\n",
       "10. 2.19083859472663-0i\n",
       "11. 3.00268791626984-0i\n",
       "12. 3.30158540698144-0i\n",
       "13. 3.10589070061329+0i\n",
       "14. 2.47917959850468+0i\n",
       "15. 1.52128519183635+0i\n",
       "16. 0.356089393033785+0i\n",
       "17. -0.882444728914134+0i\n",
       "18. -2.06438388958328+0i\n",
       "19. -3.07653084146375+0i\n",
       "20. -3.83242317967017-0i\n",
       "21. -4.27870709984917-0i\n",
       "22. -4.39744067727481-0i\n",
       "23. -4.20437910101052-0i\n",
       "24. -3.7437562080383-0i\n",
       "25. -3.0804484222303-0i\n",
       "26. -2.2906485723094+0i\n",
       "27. -1.45226619081993+0i\n",
       "28. -0.636206182680265+0i\n",
       "29. 0.100522994351887+0i\n",
       "30. 0.719223372598024+0i\n",
       "31. 1.2011557286956+0i\n",
       "32. 1.54650242989334+0i\n",
       "33. 1.7710546875+0i\n",
       "34. 1.90128550928189+0i\n",
       "35. 1.96861681543719+0i\n",
       "36. 2.00372097332397+0i\n",
       "37. 2.03161804109221+0i\n",
       "38. 2.06815895140971+0i\n",
       "39. 2.11825098546462-0i\n",
       "40. 2.17592045940317-0i\n",
       "41. 2.22605475870069-0i\n",
       "42. 2.24745396250676-0i\n",
       "43. 2.21667564826488-0i\n",
       "44. 2.11208889677977+0i\n",
       "45. 1.91756737338518+0i\n",
       "46. 1.62533813351806+0i\n",
       "47. 1.23764518756007+0i\n",
       "48. 0.767061834666568+0i\n",
       "49. 0.235468166414135+0i\n",
       "50. -0.32812383252667+0i\n",
       "51. -0.890584879491153+0i\n",
       "52. -1.41812831930567-0i\n",
       "53. -1.87979335026812-0i\n",
       "54. -2.25055385720635-0i\n",
       "55. -2.51372327068268-0i\n",
       "56. -2.66242515239289-0i\n",
       "57. -2.70001487884539-0i\n",
       "58. -2.63945511635002-0i\n",
       "59. -2.50175391483007-0i\n",
       "60. -2.31365957094187-0i\n",
       "61. -2.10486512994932-0i\n",
       "62. -1.90500550565897-0i\n",
       "63. -1.74073289343889+0i\n",
       "64. -1.63313490107119+0i\n",
       "65. -1.5957193359375+0i\n",
       "66. -1.63313490107119+0i\n",
       "67. -1.74073289343888+0i\n",
       "68. -1.90500550565897-0i\n",
       "69. -2.10486512994931-0i\n",
       "70. -2.31365957094187-0i\n",
       "71. -2.50175391483007-0i\n",
       "72. -2.63945511635002-0i\n",
       "73. -2.70001487884539-0i\n",
       "74. -2.6624251523929-0i\n",
       "75. -2.51372327068268-0i\n",
       "76. -2.25055385720635-0i\n",
       "77. -1.87979335026812-0i\n",
       "78. -1.41812831930568-0i\n",
       "79. -0.890584879491157+0i\n",
       "80. -0.328123832526672+0i\n",
       "81. 0.235468166414135+0i\n",
       "82. 0.767061834666562+0i\n",
       "83. 1.23764518756007+0i\n",
       "84. 1.62533813351806+0i\n",
       "85. 1.91756737338518+0i\n",
       "86. 2.11208889677977+0i\n",
       "87. 2.21667564826488-0i\n",
       "88. 2.24745396250676-0i\n",
       "89. 2.2260547587007-0i\n",
       "90. 2.17592045940316-0i\n",
       "91. 2.11825098546462-0i\n",
       "92. 2.06815895140972+0i\n",
       "93. 2.03161804109221+0i\n",
       "94. 2.00372097332397+0i\n",
       "95. 1.96861681543719+0i\n",
       "96. 1.9012855092819+0i\n",
       "97. 1.77105468750001+0i\n",
       "98. 1.54650242989334+0i\n",
       "99. 1.20115572869561+0i\n",
       "100. 0.719223372598023+0i\n",
       "101. 0.100522994351892+0i\n",
       "102. -0.636206182680256+0i\n",
       "103. -1.45226619081992+0i\n",
       "104. -2.29064857230939+0i\n",
       "105. -3.0804484222303-0i\n",
       "106. -3.7437562080383-0i\n",
       "107. -4.20437910101052-0i\n",
       "108. -4.39744067727481-0i\n",
       "109. -4.27870709984918-0i\n",
       "110. -3.83242317967017-0i\n",
       "111. -3.07653084146376+0i\n",
       "112. -2.06438388958328+0i\n",
       "113. -0.882444728914141+0i\n",
       "114. 0.356089393033772+0i\n",
       "115. 1.52128519183634+0i\n",
       "116. 2.47917959850467+0i\n",
       "117. 3.10589070061329+0i\n",
       "118. 3.30158540698144-0i\n",
       "119. 3.00268791626984-0i\n",
       "120. 2.19083859472664-0i\n",
       "121. 0.897424167375002-0i\n",
       "122. -0.797034241134207-0i\n",
       "123. -2.76878058861913-0i\n",
       "124. -4.86155199341549-0i\n",
       "125. -6.90110852937595-0i\n",
       "126. -8.71207604696204-0i\n",
       "127. -10.1353157931724-0i\n",
       "128. -11.0439402701062-0i\n",
       "\n",
       "\n"
      ],
      "text/plain": [
       "  [1] -11.3562182-0i -11.0439403-0i -10.1353158-0i  -8.7120760-0i  -6.9011085-0i\n",
       "  [6]  -4.8615520-0i  -2.7687806-0i  -0.7970342-0i   0.8974242-0i   2.1908386-0i\n",
       " [11]   3.0026879-0i   3.3015854-0i   3.1058907+0i   2.4791796+0i   1.5212852+0i\n",
       " [16]   0.3560894+0i  -0.8824447+0i  -2.0643839+0i  -3.0765308+0i  -3.8324232-0i\n",
       " [21]  -4.2787071-0i  -4.3974407-0i  -4.2043791-0i  -3.7437562-0i  -3.0804484-0i\n",
       " [26]  -2.2906486+0i  -1.4522662+0i  -0.6362062+0i   0.1005230+0i   0.7192234+0i\n",
       " [31]   1.2011557+0i   1.5465024+0i   1.7710547+0i   1.9012855+0i   1.9686168+0i\n",
       " [36]   2.0037210+0i   2.0316180+0i   2.0681590+0i   2.1182510-0i   2.1759205-0i\n",
       " [41]   2.2260548-0i   2.2474540-0i   2.2166756-0i   2.1120889+0i   1.9175674+0i\n",
       " [46]   1.6253381+0i   1.2376452+0i   0.7670618+0i   0.2354682+0i  -0.3281238+0i\n",
       " [51]  -0.8905849+0i  -1.4181283-0i  -1.8797934-0i  -2.2505539-0i  -2.5137233-0i\n",
       " [56]  -2.6624252-0i  -2.7000149-0i  -2.6394551-0i  -2.5017539-0i  -2.3136596-0i\n",
       " [61]  -2.1048651-0i  -1.9050055-0i  -1.7407329+0i  -1.6331349+0i  -1.5957193+0i\n",
       " [66]  -1.6331349+0i  -1.7407329+0i  -1.9050055-0i  -2.1048651-0i  -2.3136596-0i\n",
       " [71]  -2.5017539-0i  -2.6394551-0i  -2.7000149-0i  -2.6624252-0i  -2.5137233-0i\n",
       " [76]  -2.2505539-0i  -1.8797934-0i  -1.4181283-0i  -0.8905849+0i  -0.3281238+0i\n",
       " [81]   0.2354682+0i   0.7670618+0i   1.2376452+0i   1.6253381+0i   1.9175674+0i\n",
       " [86]   2.1120889+0i   2.2166756-0i   2.2474540-0i   2.2260548-0i   2.1759205-0i\n",
       " [91]   2.1182510-0i   2.0681590+0i   2.0316180+0i   2.0037210+0i   1.9686168+0i\n",
       " [96]   1.9012855+0i   1.7710547+0i   1.5465024+0i   1.2011557+0i   0.7192234+0i\n",
       "[101]   0.1005230+0i  -0.6362062+0i  -1.4522662+0i  -2.2906486+0i  -3.0804484-0i\n",
       "[106]  -3.7437562-0i  -4.2043791-0i  -4.3974407-0i  -4.2787071-0i  -3.8324232-0i\n",
       "[111]  -3.0765308+0i  -2.0643839+0i  -0.8824447+0i   0.3560894+0i   1.5212852+0i\n",
       "[116]   2.4791796+0i   3.1058907+0i   3.3015854-0i   3.0026879-0i   2.1908386-0i\n",
       "[121]   0.8974242-0i  -0.7970342-0i  -2.7687806-0i  -4.8615520-0i  -6.9011085-0i\n",
       "[126]  -8.7120760-0i -10.1353158-0i -11.0439403-0i"
      ]
     },
     "metadata": {},
     "output_type": "display_data"
    }
   ],
   "source": [
    "X.k.j = fft(rpResults[which(rpResults$predActNum == j),randPros[i]])\n",
    "X.k.j = fft(X.k.j, inverse = TRUE)/length(X.k.j)\n",
    "x.n.j <- get.trajectory(X.k.j,ts,acq.freq)\n",
    "x.n.j"
   ]
  },
  {
   "cell_type": "code",
   "execution_count": 35,
   "metadata": {},
   "outputs": [],
   "source": [
    "#activityMatrix"
   ]
  },
  {
   "cell_type": "code",
   "execution_count": 36,
   "metadata": {},
   "outputs": [
    {
     "data": {
      "text/html": [
       "229"
      ],
      "text/latex": [
       "229"
      ],
      "text/markdown": [
       "229"
      ],
      "text/plain": [
       "[1] 229"
      ]
     },
     "metadata": {},
     "output_type": "display_data"
    }
   ],
   "source": [
    "length(unique(rpResults$predActNum))"
   ]
  },
  {
   "cell_type": "code",
   "execution_count": null,
   "metadata": {},
   "outputs": [],
   "source": []
  }
 ],
 "metadata": {
  "kernelspec": {
   "display_name": "R",
   "language": "R",
   "name": "ir"
  },
  "language_info": {
   "codemirror_mode": "r",
   "file_extension": ".r",
   "mimetype": "text/x-r-source",
   "name": "R",
   "pygments_lexer": "r",
   "version": "3.4.2"
  }
 },
 "nbformat": 4,
 "nbformat_minor": 2
}
